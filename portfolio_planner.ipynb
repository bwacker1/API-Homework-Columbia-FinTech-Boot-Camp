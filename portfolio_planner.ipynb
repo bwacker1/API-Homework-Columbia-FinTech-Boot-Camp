{
 "cells": [
  {
   "cell_type": "code",
   "execution_count": 1,
   "metadata": {},
   "outputs": [],
   "source": [
    "import numpy as np\n",
    "import pandas as pd\n",
    "from datetime import datetime, timedelta\n",
    "import matplotlib.pyplot as plt\n",
    "%matplotlib inline"
   ]
  },
  {
   "cell_type": "code",
   "execution_count": 2,
   "metadata": {},
   "outputs": [],
   "source": [
    "np.random.seed(42)"
   ]
  },
  {
   "cell_type": "markdown",
   "metadata": {},
   "source": [
    "# Portfolio Planner\n",
    "\n",
    "In this activity, you will use the iexfinance api to grab historical data for a 60/40 portfolio using `SPY` to represent the stock portion and `AGG` to represent the bonds."
   ]
  },
  {
   "cell_type": "code",
   "execution_count": 3,
   "metadata": {},
   "outputs": [],
   "source": [
    "from iexfinance.stocks import get_historical_data\n",
    "import iexfinance as iex"
   ]
  },
  {
   "cell_type": "code",
   "execution_count": 4,
   "metadata": {},
   "outputs": [],
   "source": [
    "#http://finance.yahoo.com/q?s=AAPL"
   ]
  },
  {
   "cell_type": "markdown",
   "metadata": {},
   "source": [
    "# Data Collection\n",
    "\n",
    "In this step, you will need to use the IEX api to fetch closing prices for the `SPY` and `AGG` tickers. Save the results as a pandas DataFrame"
   ]
  },
  {
   "cell_type": "code",
   "execution_count": 5,
   "metadata": {},
   "outputs": [
    {
     "data": {
      "text/html": [
       "<div>\n",
       "<style scoped>\n",
       "    .dataframe tbody tr th:only-of-type {\n",
       "        vertical-align: middle;\n",
       "    }\n",
       "\n",
       "    .dataframe tbody tr th {\n",
       "        vertical-align: top;\n",
       "    }\n",
       "\n",
       "    .dataframe thead th {\n",
       "        text-align: right;\n",
       "    }\n",
       "</style>\n",
       "<table border=\"1\" class=\"dataframe\">\n",
       "  <thead>\n",
       "    <tr style=\"text-align: right;\">\n",
       "      <th></th>\n",
       "      <th>SPY</th>\n",
       "      <th>AGG</th>\n",
       "    </tr>\n",
       "    <tr>\n",
       "      <th>date</th>\n",
       "      <th></th>\n",
       "      <th></th>\n",
       "    </tr>\n",
       "  </thead>\n",
       "  <tbody>\n",
       "    <tr>\n",
       "      <th>2019-01-28</th>\n",
       "      <td>263.76</td>\n",
       "      <td>106.62</td>\n",
       "    </tr>\n",
       "    <tr>\n",
       "      <th>2019-01-29</th>\n",
       "      <td>263.41</td>\n",
       "      <td>106.90</td>\n",
       "    </tr>\n",
       "    <tr>\n",
       "      <th>2019-01-30</th>\n",
       "      <td>267.58</td>\n",
       "      <td>107.14</td>\n",
       "    </tr>\n",
       "    <tr>\n",
       "      <th>2019-01-31</th>\n",
       "      <td>269.93</td>\n",
       "      <td>107.46</td>\n",
       "    </tr>\n",
       "    <tr>\n",
       "      <th>2019-02-01</th>\n",
       "      <td>270.06</td>\n",
       "      <td>106.97</td>\n",
       "    </tr>\n",
       "  </tbody>\n",
       "</table>\n",
       "</div>"
      ],
      "text/plain": [
       "               SPY     AGG\n",
       "date                      \n",
       "2019-01-28  263.76  106.62\n",
       "2019-01-29  263.41  106.90\n",
       "2019-01-30  267.58  107.14\n",
       "2019-01-31  269.93  107.46\n",
       "2019-02-01  270.06  106.97"
      ]
     },
     "execution_count": 5,
     "metadata": {},
     "output_type": "execute_result"
    }
   ],
   "source": [
    "list_of_tickers = [\"SPY\", \"AGG\"]\n",
    "\n",
    "# Set start and end datetimes of 1 year, between now and 365 days ago.\n",
    "end_date = datetime.now()\n",
    "start_date = end_date + timedelta(-365)\n",
    "\n",
    "# Get 1 year's worth of historical data for SPY\n",
    "spy_df = get_historical_data(list_of_tickers[0], start_date, end_date, close_only=True, output_format='pandas')\n",
    "spy_df.drop(['volume'],axis='columns',inplace=True)\n",
    "\n",
    "# Get 1 year's worth of historical data for AGG\n",
    "agg_df = get_historical_data(list_of_tickers[1], start_date, end_date, close_only=True, output_format='pandas')\n",
    "agg_df.drop(['volume'],axis='columns',inplace=True)\n",
    "\n",
    "close_df = pd.concat([spy_df,agg_df], join='inner', axis='columns')\n",
    "\n",
    "close_df.columns = ['SPY','AGG']\n",
    "\n",
    "close_df.head()"
   ]
  },
  {
   "cell_type": "markdown",
   "metadata": {},
   "source": [
    "# Monte Carlo Simulation\n",
    "\n",
    "In this step, you will run Monte Carlo Simulations for your portfolio to model portfolio performance at different retirement ages. \n",
    "\n",
    "Complete the following steps:\n",
    "1. Calculate the daily returns for the SPY and AGG closing prices.\n",
    "2. Calculate volatility for both the SPY and AGG closing prices.\n",
    "3. Find the last day's closing price for both stocks and save those as variables.\n",
    "4. Run a Monte Carlo Simulation of at least 500 iterations and generate at least 30 years of closing prices\n",
    "\n",
    "### HINTS:\n",
    "There are 252 trading days per year, so the number of records to generate for each Monte Carlo run will be 252 days * 30 years"
   ]
  },
  {
   "cell_type": "code",
   "execution_count": 7,
   "metadata": {},
   "outputs": [
    {
     "data": {
      "text/plain": [
       "0.00027375476127896605"
      ]
     },
     "execution_count": 7,
     "metadata": {},
     "output_type": "execute_result"
    }
   ],
   "source": [
    "# Calculate the daily roi for the stocks\n",
    "returns_df = close_df.pct_change().dropna()\n",
    "\n",
    "avg_daily_return_spy = returns_df.mean()['SPY']\n",
    "avg_daily_return_agg = returns_df.mean()['AGG']\n",
    "\n",
    "\n",
    "avg_daily_return_agg"
   ]
  },
  {
   "cell_type": "code",
   "execution_count": 8,
   "metadata": {},
   "outputs": [
    {
     "data": {
      "text/plain": [
       "0.002094524695851093"
      ]
     },
     "execution_count": 8,
     "metadata": {},
     "output_type": "execute_result"
    }
   ],
   "source": [
    "# Calculate volatility\n",
    "std_dev_daily_return_spy = returns_df.std()['SPY']\n",
    "std_dev_daily_return_agg = returns_df.std()['AGG']\n",
    "\n",
    "std_dev_daily_return_agg"
   ]
  },
  {
   "cell_type": "code",
   "execution_count": 12,
   "metadata": {},
   "outputs": [],
   "source": [
    "# Save the last day's closing price\n",
    "spy_last_price = returns_df['SPY'][-1]\n",
    "agg_last_price = returns_df['AGG'][-1]"
   ]
  },
  {
   "cell_type": "code",
   "execution_count": 19,
   "metadata": {},
   "outputs": [],
   "source": [
    "# Setup the Monte Carlo Parameters\n",
    "number_simulations = 500\n",
    "number_records = 252 * 30\n",
    "monte_carlo = pd.DataFrame()\n",
    "portfolio_cumulative_returns = pd.DataFrame()"
   ]
  },
  {
   "cell_type": "code",
   "execution_count": 21,
   "metadata": {},
   "outputs": [
    {
     "data": {
      "text/html": [
       "<div>\n",
       "<style scoped>\n",
       "    .dataframe tbody tr th:only-of-type {\n",
       "        vertical-align: middle;\n",
       "    }\n",
       "\n",
       "    .dataframe tbody tr th {\n",
       "        vertical-align: top;\n",
       "    }\n",
       "\n",
       "    .dataframe thead th {\n",
       "        text-align: right;\n",
       "    }\n",
       "</style>\n",
       "<table border=\"1\" class=\"dataframe\">\n",
       "  <thead>\n",
       "    <tr style=\"text-align: right;\">\n",
       "      <th></th>\n",
       "      <th>0</th>\n",
       "      <th>1</th>\n",
       "      <th>2</th>\n",
       "      <th>3</th>\n",
       "      <th>4</th>\n",
       "      <th>5</th>\n",
       "      <th>6</th>\n",
       "      <th>7</th>\n",
       "      <th>8</th>\n",
       "      <th>9</th>\n",
       "      <th>...</th>\n",
       "      <th>490</th>\n",
       "      <th>491</th>\n",
       "      <th>492</th>\n",
       "      <th>493</th>\n",
       "      <th>494</th>\n",
       "      <th>495</th>\n",
       "      <th>496</th>\n",
       "      <th>497</th>\n",
       "      <th>498</th>\n",
       "      <th>499</th>\n",
       "    </tr>\n",
       "  </thead>\n",
       "  <tbody>\n",
       "    <tr>\n",
       "      <th>0</th>\n",
       "      <td>1.000000</td>\n",
       "      <td>1.000000</td>\n",
       "      <td>1.000000</td>\n",
       "      <td>1.000000</td>\n",
       "      <td>1.000000</td>\n",
       "      <td>1.000000</td>\n",
       "      <td>1.000000</td>\n",
       "      <td>1.000000</td>\n",
       "      <td>1.000000</td>\n",
       "      <td>1.000000</td>\n",
       "      <td>...</td>\n",
       "      <td>1.000000</td>\n",
       "      <td>1.000000</td>\n",
       "      <td>1.000000</td>\n",
       "      <td>1.000000</td>\n",
       "      <td>1.000000</td>\n",
       "      <td>1.000000</td>\n",
       "      <td>1.000000</td>\n",
       "      <td>1.000000</td>\n",
       "      <td>1.000000</td>\n",
       "      <td>1.000000</td>\n",
       "    </tr>\n",
       "    <tr>\n",
       "      <th>1</th>\n",
       "      <td>1.005439</td>\n",
       "      <td>1.006493</td>\n",
       "      <td>1.008858</td>\n",
       "      <td>0.996775</td>\n",
       "      <td>1.001805</td>\n",
       "      <td>0.999272</td>\n",
       "      <td>1.002716</td>\n",
       "      <td>1.000636</td>\n",
       "      <td>1.007361</td>\n",
       "      <td>0.999478</td>\n",
       "      <td>...</td>\n",
       "      <td>0.997900</td>\n",
       "      <td>1.003015</td>\n",
       "      <td>0.996560</td>\n",
       "      <td>0.994421</td>\n",
       "      <td>1.002971</td>\n",
       "      <td>0.997557</td>\n",
       "      <td>1.001414</td>\n",
       "      <td>1.000414</td>\n",
       "      <td>0.996477</td>\n",
       "      <td>0.999914</td>\n",
       "    </tr>\n",
       "    <tr>\n",
       "      <th>2</th>\n",
       "      <td>1.008586</td>\n",
       "      <td>0.998097</td>\n",
       "      <td>1.003741</td>\n",
       "      <td>0.986887</td>\n",
       "      <td>1.001149</td>\n",
       "      <td>1.007256</td>\n",
       "      <td>0.999342</td>\n",
       "      <td>1.000480</td>\n",
       "      <td>0.997385</td>\n",
       "      <td>0.997184</td>\n",
       "      <td>...</td>\n",
       "      <td>0.999344</td>\n",
       "      <td>1.000054</td>\n",
       "      <td>0.996212</td>\n",
       "      <td>0.994942</td>\n",
       "      <td>1.002983</td>\n",
       "      <td>1.001230</td>\n",
       "      <td>0.998795</td>\n",
       "      <td>0.993666</td>\n",
       "      <td>0.994692</td>\n",
       "      <td>0.998378</td>\n",
       "    </tr>\n",
       "    <tr>\n",
       "      <th>3</th>\n",
       "      <td>1.008070</td>\n",
       "      <td>1.001031</td>\n",
       "      <td>1.007529</td>\n",
       "      <td>0.981325</td>\n",
       "      <td>1.001058</td>\n",
       "      <td>1.015133</td>\n",
       "      <td>1.007026</td>\n",
       "      <td>0.998348</td>\n",
       "      <td>0.998540</td>\n",
       "      <td>0.996012</td>\n",
       "      <td>...</td>\n",
       "      <td>0.993240</td>\n",
       "      <td>0.999027</td>\n",
       "      <td>0.999873</td>\n",
       "      <td>1.000264</td>\n",
       "      <td>1.006284</td>\n",
       "      <td>1.000288</td>\n",
       "      <td>0.997092</td>\n",
       "      <td>0.992947</td>\n",
       "      <td>0.994163</td>\n",
       "      <td>0.996727</td>\n",
       "    </tr>\n",
       "    <tr>\n",
       "      <th>4</th>\n",
       "      <td>1.009652</td>\n",
       "      <td>0.996491</td>\n",
       "      <td>1.006538</td>\n",
       "      <td>0.978788</td>\n",
       "      <td>1.008599</td>\n",
       "      <td>1.005794</td>\n",
       "      <td>1.015724</td>\n",
       "      <td>0.997709</td>\n",
       "      <td>1.007217</td>\n",
       "      <td>0.990798</td>\n",
       "      <td>...</td>\n",
       "      <td>0.999157</td>\n",
       "      <td>0.996321</td>\n",
       "      <td>0.994686</td>\n",
       "      <td>1.001074</td>\n",
       "      <td>1.010651</td>\n",
       "      <td>1.003701</td>\n",
       "      <td>0.999675</td>\n",
       "      <td>0.993066</td>\n",
       "      <td>0.999363</td>\n",
       "      <td>1.002971</td>\n",
       "    </tr>\n",
       "  </tbody>\n",
       "</table>\n",
       "<p>5 rows × 500 columns</p>\n",
       "</div>"
      ],
      "text/plain": [
       "        0         1         2         3         4         5         6    \\\n",
       "0  1.000000  1.000000  1.000000  1.000000  1.000000  1.000000  1.000000   \n",
       "1  1.005439  1.006493  1.008858  0.996775  1.001805  0.999272  1.002716   \n",
       "2  1.008586  0.998097  1.003741  0.986887  1.001149  1.007256  0.999342   \n",
       "3  1.008070  1.001031  1.007529  0.981325  1.001058  1.015133  1.007026   \n",
       "4  1.009652  0.996491  1.006538  0.978788  1.008599  1.005794  1.015724   \n",
       "\n",
       "        7         8         9    ...       490       491       492       493  \\\n",
       "0  1.000000  1.000000  1.000000  ...  1.000000  1.000000  1.000000  1.000000   \n",
       "1  1.000636  1.007361  0.999478  ...  0.997900  1.003015  0.996560  0.994421   \n",
       "2  1.000480  0.997385  0.997184  ...  0.999344  1.000054  0.996212  0.994942   \n",
       "3  0.998348  0.998540  0.996012  ...  0.993240  0.999027  0.999873  1.000264   \n",
       "4  0.997709  1.007217  0.990798  ...  0.999157  0.996321  0.994686  1.001074   \n",
       "\n",
       "        494       495       496       497       498       499  \n",
       "0  1.000000  1.000000  1.000000  1.000000  1.000000  1.000000  \n",
       "1  1.002971  0.997557  1.001414  1.000414  0.996477  0.999914  \n",
       "2  1.002983  1.001230  0.998795  0.993666  0.994692  0.998378  \n",
       "3  1.006284  1.000288  0.997092  0.992947  0.994163  0.996727  \n",
       "4  1.010651  1.003701  0.999675  0.993066  0.999363  1.002971  \n",
       "\n",
       "[5 rows x 500 columns]"
      ]
     },
     "execution_count": 21,
     "metadata": {},
     "output_type": "execute_result"
    }
   ],
   "source": [
    "# Run the Monte Carlo Simulation\n",
    "for x in range(number_simulations):\n",
    "    \n",
    "    # Initialize the simulated prices list with the last closing price of `SPY` and `AGG`\n",
    "    simulated_spy_prices = [spy_last_price]\n",
    "    simulated_agg_prices = [agg_last_price]\n",
    "    \n",
    "    # Simulate the returns for 252 * 3 days\n",
    "    for i in range(number_records):\n",
    "        \n",
    "        # Calculate the simulated price using the last price within the list\n",
    "        simulated_spy_price = simulated_spy_prices[-1] * (1 + np.random.normal(avg_daily_return_spy, std_dev_daily_return_spy))\n",
    "        simulated_agg_price = simulated_agg_prices[-1] * (1 + np.random.normal(avg_daily_return_agg, std_dev_daily_return_agg))\n",
    "        \n",
    "        # Append the simulated price to the list\n",
    "        simulated_spy_prices.append(simulated_spy_price)\n",
    "        simulated_agg_prices.append(simulated_agg_price)\n",
    "    \n",
    "    # Append a simulated prices of each simulation to DataFrame\n",
    "    monte_carlo[\"SPY prices\"] = pd.Series(simulated_spy_prices)\n",
    "    monte_carlo[\"AGG prices\"] = pd.Series(simulated_agg_prices)\n",
    "    \n",
    "    # Calculate the daily returns of simulated prices\n",
    "    simulated_daily_returns = monte_carlo.pct_change()\n",
    "    \n",
    "    # Set the portfolio weights (60% SPY; 40% AGG)\n",
    "    weights = [0.60, 0.40]\n",
    "\n",
    "    # Use the `dot` function with the weights to multiply weights with each column's simulated daily returns\n",
    "    portfolio_daily_returns = simulated_daily_returns.dot(weights)\n",
    "    \n",
    "    # Calculate the normalized, cumulative return series\n",
    "    portfolio_cumulative_returns[x] = (1 + portfolio_daily_returns.fillna(0)).cumprod()\n",
    "\n",
    "# Print records from the DataFrame\n",
    "portfolio_cumulative_returns.head()"
   ]
  },
  {
   "cell_type": "code",
   "execution_count": 23,
   "metadata": {},
   "outputs": [
    {
     "data": {
      "text/plain": [
       "<matplotlib.axes._subplots.AxesSubplot at 0x11a170390>"
      ]
     },
     "execution_count": 23,
     "metadata": {},
     "output_type": "execute_result"
    },
    {
     "data": {
      "image/png": "[encoded data removed]",
      "text/plain": [
       "<Figure size 432x288 with 1 Axes>"
      ]
     },
     "metadata": {
      "needs_background": "light"
     },
     "output_type": "display_data"
    }
   ],
   "source": [
    "# Visualize the Simulation\n",
    "portfolio_cumulative_returns.plot(legend=None)"
   ]
  },
  {
   "cell_type": "code",
   "execution_count": 29,
   "metadata": {},
   "outputs": [
    {
     "data": {
      "text/plain": [
       "0    118.235745\n",
       "1     96.921071\n",
       "2    112.441703\n",
       "3    174.933398\n",
       "4    121.966198\n",
       "Name: 7560, dtype: float64"
      ]
     },
     "execution_count": 29,
     "metadata": {},
     "output_type": "execute_result"
    }
   ],
   "source": [
    "# Select the last row for the cumulative returns (cumulative returns at 30 years)\n",
    "ending_cumulative_returns = portfolio_cumulative_returns.iloc[-1, :]\n",
    "ending_cumulative_returns.head()"
   ]
  },
  {
   "cell_type": "code",
   "execution_count": 30,
   "metadata": {},
   "outputs": [
    {
     "data": {
      "text/plain": [
       "0    25.164168\n",
       "1    20.009425\n",
       "2    20.260119\n",
       "3    51.631232\n",
       "4    20.316466\n",
       "Name: 5042, dtype: float64"
      ]
     },
     "execution_count": 30,
     "metadata": {},
     "output_type": "execute_result"
    }
   ],
   "source": [
    "# Select the last row for the cumulative returns (cumulative returns at 20 years)\n",
    "ending_cumulative_returns_20 = portfolio_cumulative_returns.iloc[-2519, :]\n",
    "ending_cumulative_returns_20.head()"
   ]
  },
  {
   "cell_type": "code",
   "execution_count": 41,
   "metadata": {},
   "outputs": [
    {
     "data": {
      "text/plain": [
       "0.5    93.582147\n",
       "Name: 7560, dtype: float64"
      ]
     },
     "execution_count": 41,
     "metadata": {},
     "output_type": "execute_result"
    }
   ],
   "source": [
    "# Display the 90% confidence interval for the ending returns\n",
    "confidence_interval = ending_cumulative_returns.quantile(q=[0.05, 0.95])\n",
    "confidence_interval\n",
    "\n",
    "# 50% confidence interval\n",
    "confidence_interval_50 = ending_cumulative_returns.quantile(q=[.5])\n",
    "confidence_interval_50"
   ]
  },
  {
   "cell_type": "code",
   "execution_count": 42,
   "metadata": {},
   "outputs": [
    {
     "data": {
      "text/plain": [
       "<matplotlib.lines.Line2D at 0x12d708c90>"
      ]
     },
     "execution_count": 42,
     "metadata": {},
     "output_type": "execute_result"
    },
    {
     "data": {
      "image/png": "[encoded data removed]",
      "text/plain": [
       "<Figure size 432x288 with 1 Axes>"
      ]
     },
     "metadata": {
      "needs_background": "light"
     },
     "output_type": "display_data"
    }
   ],
   "source": [
    "# Visualize the distribution of the ending returns\n",
    "plt.figure();\n",
    "ending_cumulative_returns.plot(kind='hist', density=True, bins=50)\n",
    "plt.axvline(confidence_interval.iloc[0], color='r')\n",
    "plt.axvline(confidence_interval.iloc[1], color='r')\n",
    "plt.axvline(confidence_interval_50.iloc[0], color='r')"
   ]
  },
  {
   "cell_type": "markdown",
   "metadata": {},
   "source": [
    "---"
   ]
  },
  {
   "cell_type": "markdown",
   "metadata": {},
   "source": [
    "# Retirement Analysis\n",
    "\n",
    "In this section, you will use the monte carlo model to answer the following retirement planning questions:\n",
    "\n",
    "1. What are the expected cumulative returns at 30 years for the 10th, 50th, and 90th percentiles?\n",
    "2. Given an initial investment of `$20,000`, what is the expected portfolio return in dollars at the 10th, 50th, and 90th percentiles?\n",
    "3. Given the current projected annual income from the Plaid analysis, will a 4% withdraw rate from the retirement portfolio meet or exceed that value at the 10th percentile?\n",
    "4. How would a 50% increase in the initial investment amount affect the 4% retirement withdrawal?"
   ]
  },
  {
   "cell_type": "markdown",
   "metadata": {},
   "source": [
    "### What are the expected cumulative returns at 30 years for the 10th, 50th, and 90th percentiles?"
   ]
  },
  {
   "cell_type": "code",
   "execution_count": 47,
   "metadata": {},
   "outputs": [
    {
     "name": "stdout",
     "output_type": "stream",
     "text": [
      "At the 10th percentile, the expected cumulative return is ~49%\n",
      "At the 50th percentile, the expected cumulative return is ~95%\n",
      "At the 90th percentile, the expected cumulative return is ~180%\n"
     ]
    }
   ],
   "source": [
    "print('At the 10th percentile, the expected cumulative return is ~49%')\n",
    "print('At the 50th percentile, the expected cumulative return is ~95%')\n",
    "print('At the 90th percentile, the expected cumulative return is ~180%')"
   ]
  },
  {
   "cell_type": "markdown",
   "metadata": {},
   "source": [
    "### Given an initial investment of `$20,000`, what is the expected portfolio return in dollars at the 10th, 50th, and 90th percentiles?"
   ]
  },
  {
   "cell_type": "code",
   "execution_count": 51,
   "metadata": {},
   "outputs": [
    {
     "name": "stdout",
     "output_type": "stream",
     "text": [
      "At the 10th percentile, the expected portfolio return is $9800\n",
      "At the 10th percentile, the expected portfolio return is $19000\n",
      "At the 10th percentile, the expected portfolio return is $3600\n"
     ]
    }
   ],
   "source": [
    "print(f'At the 10th percentile, the expected portfolio return is ${int(20000*.49)}')\n",
    "print(f'At the 10th percentile, the expected portfolio return is ${int(20000*.95)}')\n",
    "print(f'At the 10th percentile, the expected portfolio return is ${int(20000*.180)}')"
   ]
  },
  {
   "cell_type": "markdown",
   "metadata": {},
   "source": [
    "### Given the current projected annual income from the Plaid analysis, will a 4% withdraw rate from the retirement portfolio meet or exceed that value at the 10th percentile?\n",
    "\n",
    "Note: This is effectively saying that 90% of the expected returns will be greater than the return at the 10th percentile, so this can help measure the uncertainty about having enough funds at retirement"
   ]
  },
  {
   "cell_type": "code",
   "execution_count": 52,
   "metadata": {},
   "outputs": [
    {
     "name": "stdout",
     "output_type": "stream",
     "text": [
      "Total income after 30 years at 10th percentile with a $20,000 investment:\n",
      "29800.0\n",
      "Total withdrawal of 4% per year over 30 years:\n",
      "24000.0\n",
      "The retirement portfolio will exceed the value of the cumulative withdrawals.\n"
     ]
    }
   ],
   "source": [
    "print('Total income after 30 years at 10th percentile with a $20,000 investment:')\n",
    "_10th_pct_income = 20000*1.49\n",
    "print(_10th_pct_income)\n",
    "print('Total withdrawal of 4% per year over 30 years:')\n",
    "withdrawal = 20000*.04*30\n",
    "print(withdrawal)\n",
    "\n",
    "if _10th_pct_income > withdrawal:\n",
    "    print('The retirement portfolio will exceed the value of the cumulative withdrawals.')\n",
    "else:\n",
    "    print('The retirement portfolio will NOT exceed the value of the cumulative withdrawals.')\n",
    "\n"
   ]
  },
  {
   "cell_type": "markdown",
   "metadata": {},
   "source": [
    "### How would a 50% increase in the initial investment amount affect the 4% retirement withdrawal?"
   ]
  },
  {
   "cell_type": "code",
   "execution_count": 53,
   "metadata": {},
   "outputs": [
    {
     "name": "stdout",
     "output_type": "stream",
     "text": [
      "Total income after 30 years at 10th percentile with a $20,000 investment:\n",
      "29800.0\n",
      "Total withdrawal of 4% per year over 30 years:\n",
      "24000.0\n",
      "A 50% increase will have NO effect on the withdrawal.\n"
     ]
    }
   ],
   "source": [
    "print('Total income after 30 years at 10th percentile with a $20,000 investment:')\n",
    "_10th_pct_income_50 = 30000*1.49\n",
    "print(_10th_pct_income)\n",
    "print('Total withdrawal of 4% per year over 30 years:')\n",
    "withdrawal_50 = 30000*.04*30\n",
    "print(withdrawal)\n",
    "\n",
    "if (withdrawal_50/30000) == (withdrawal/20000):\n",
    "    print('A 50% increase will have NO effect on the withdrawal.')\n",
    "else:\n",
    "    print('A 50% increase will have an effect on the withdrawal.')"
   ]
  },
  {
   "cell_type": "markdown",
   "metadata": {},
   "source": [
    "### Optional Challenge\n",
    "\n",
    "In this section, you will calculate and plot the cumulative returns for the median and 90% confidence intervals. This plot shows the expected cumulative returns for any given day between the first day and the last day of investment. "
   ]
  },
  {
   "cell_type": "code",
   "execution_count": null,
   "metadata": {},
   "outputs": [],
   "source": [
    "# YOUR CODE HERE"
   ]
  }
 ],
 "metadata": {
  "kernel_info": {
   "name": "dev"
  },
  "kernelspec": {
   "display_name": "Python 3",
   "language": "python",
   "name": "python3"
  },
  "language_info": {
   "codemirror_mode": {
    "name": "ipython",
    "version": 3
   },
   "file_extension": ".py",
   "mimetype": "text/x-python",
   "name": "python",
   "nbconvert_exporter": "python",
   "pygments_lexer": "ipython3",
   "version": "3.7.4"
  },
  "nteract": {
   "version": "0.12.3"
  }
 },
 "nbformat": 4,
 "nbformat_minor": 4
}
